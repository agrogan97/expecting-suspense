{
 "cells": [
  {
   "cell_type": "code",
   "execution_count": 2,
   "metadata": {},
   "outputs": [],
   "source": [
    "import numpy as np\n",
    "import random"
   ]
  },
  {
   "cell_type": "markdown",
   "metadata": {},
   "source": [
    "Li, Bramley, & Gureckis (2021)\n",
    "===\n",
    "\n",
    "Trying to recreate the suspense modelling from Li, Bramley, and Gureckis (2021).\n",
    "\n",
    "I'll copy over some of their code from ([OSF](https://osf.io/zsjk8)), and rewrite some for my own clarity\n",
    "\n",
    "The minimal amount to get their code working and simulating suspense is:\n",
    "- A belief model: the player's perceived probability of success\n",
    "- A suspense model: the metric that quantifies suspense as a function of belief"
   ]
  },
  {
   "cell_type": "code",
   "execution_count": 3,
   "metadata": {},
   "outputs": [],
   "source": [
    "# Generate a sequence of pairs\n",
    "\n",
    "def genPairSequence(theGame: dict) -> dict:\n",
    "    # Deconstruct into upper and lower bounds\n",
    "    upperBound, lowerBound = theGame['bounds']\n",
    "\n",
    "    # Define callbacks that we'll use to check if the player is bust or not\n",
    "    if theGame['isBust']:\n",
    "        # Check if score is above upperBound or below lowerBound\n",
    "        gameDone = lambda x: x >= upperBound or x <= lowerBound\n",
    "    else:\n",
    "        gameDone = lambda x: False\n",
    "\n",
    "    pairSequence = []\n",
    "    for n in range(theGame['nmax']):\n",
    "        # Sample from the deck twice, without replacement - i.e. draw 2 unique cards (although their value CAN be equal)\n",
    "        pairSequence.append(np.random.choice(theGame['deck'], 2, replace=False))\n",
    "\n",
    "        # Check if the player is bust after drawing a new pair - note that they'll always get the first card in the pair as it's fixed\n",
    "        if gameDone(sum(p[0] for p in pairSequence)):\n",
    "            print('Bust')\n",
    "            break\n",
    "\n",
    "    theGame['pairSequence'] = np.array(pairSequence)\n",
    "    theGame['isWin'] = checkIfWon([pr[0] for pr in pairSequence], theGame)\n",
    "\n",
    "    return theGame\n",
    "\n",
    "def checkIfWon(cards: list, theGame: dict) -> int:\n",
    "    # Deconstruct bounds\n",
    "    upperBound, lowerBound = theGame['bounds']\n",
    "    # Check if the player is bust - NB: this counts bust as inclusive of the upperBound, unlike in actual Blackjack\n",
    "    bust = (sum(cards) >= upperBound) or (sum(cards) <= lowerBound)\n",
    "    # Define a default value of outcome for debugging\n",
    "    outcome = 0\n",
    "\n",
    "    if bust:\n",
    "        # if the player is bust, or if they've exceeded the max number of draws\n",
    "        # I have a feeling this check is actually redundant, but I'll leave it in for consistency with the authors\n",
    "        if theGame['isBust'] or (not theGame['isBust'] and len(cards) == theGame['nmax']):\n",
    "            # Lost\n",
    "            outcome = -1\n",
    "    else:\n",
    "        # If all cards have been drawn without going bust\n",
    "        if len(cards) == theGame['nmax']:\n",
    "            # Win\n",
    "            outcome = 1\n",
    "\n",
    "    return outcome\n"
   ]
  },
  {
   "cell_type": "code",
   "execution_count": null,
   "metadata": {},
   "outputs": [],
   "source": [
    "# Suspense function\n",
    "\n",
    "def computeSuspense(cPair, cPast, mod, theGame):\n",
    "    pass"
   ]
  },
  {
   "cell_type": "code",
   "execution_count": null,
   "metadata": {},
   "outputs": [],
   "source": []
  },
  {
   "cell_type": "code",
   "execution_count": 4,
   "metadata": {},
   "outputs": [],
   "source": [
    "# Main\n",
    "# ----------------------------------------------------\n",
    "# ## Define game parameters\n",
    "nmax = 5 # Maximum number of cards that can be drawn\n",
    "deckSize = 9 # The size of the deck\n",
    "allowedCards = np.arange(-3, 10) # The possible cards - NB: including negative values! - from which each real deck is sampled\n",
    "# -----------------------------------------------------\n",
    "\n",
    "# Define game parameter storage object\n",
    "theGame = {\n",
    "    'bounds' : [21, -100], # the upper and lower bounds of the game score - eg: over 21, the player goes bust,\n",
    "    'nmax' : nmax,\n",
    "    'deck' : np.random.choice(allowedCards, deckSize), # samples the allowed cards, `deckSize` times, with replacement\n",
    "    'isBust' : True\n",
    "    }\n",
    "\n",
    "# Generate the sequence of card pairs\n",
    "theGame = genPairSequence(theGame)\n",
    "\n",
    "# Compute the suspense for this game\n",
    "computeSuspense(theGame,['L1','tobnd','plose','uncertainty'])"
   ]
  },
  {
   "cell_type": "code",
   "execution_count": 5,
   "metadata": {},
   "outputs": [
    {
     "data": {
      "text/plain": [
       "{'bounds': [21, -100],\n",
       " 'nmax': 5,\n",
       " 'deck': array([ 4,  5,  1,  9,  7, -2,  0,  9,  4]),\n",
       " 'isBust': True,\n",
       " 'pairSequence': array([[ 1,  4],\n",
       "        [-2,  7],\n",
       "        [ 7,  4],\n",
       "        [ 4,  5],\n",
       "        [ 1,  7]]),\n",
       " 'isWin': 1}"
      ]
     },
     "execution_count": 5,
     "metadata": {},
     "output_type": "execute_result"
    }
   ],
   "source": [
    "theGame"
   ]
  },
  {
   "cell_type": "code",
   "execution_count": null,
   "metadata": {},
   "outputs": [],
   "source": []
  },
  {
   "cell_type": "code",
   "execution_count": null,
   "metadata": {},
   "outputs": [],
   "source": []
  },
  {
   "cell_type": "code",
   "execution_count": null,
   "metadata": {},
   "outputs": [],
   "source": []
  }
 ],
 "metadata": {
  "kernelspec": {
   "display_name": ".venv",
   "language": "python",
   "name": "python3"
  },
  "language_info": {
   "codemirror_mode": {
    "name": "ipython",
    "version": 3
   },
   "file_extension": ".py",
   "mimetype": "text/x-python",
   "name": "python",
   "nbconvert_exporter": "python",
   "pygments_lexer": "ipython3",
   "version": "3.10.1"
  }
 },
 "nbformat": 4,
 "nbformat_minor": 2
}
