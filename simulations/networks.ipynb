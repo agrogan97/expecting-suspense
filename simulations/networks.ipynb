{
 "cells": [
  {
   "cell_type": "code",
   "execution_count": 4,
   "metadata": {},
   "outputs": [],
   "source": [
    "import numpy as np\n",
    "import random"
   ]
  },
  {
   "cell_type": "markdown",
   "metadata": {},
   "source": [
    "# Network Modelling\n",
    "\n",
    "We'll explore 2 networks to see how it can model structure in observations related to suspense and the blackjack game:\n",
    "- A linear network\n",
    "- A recurrent network\n",
    "\n",
    "We'll start by defining a data generation process to use as our training data. For this, we need arrays of 5 card draws as the input, with the corresponding suspense "
   ]
  },
  {
   "cell_type": "code",
   "execution_count": 380,
   "metadata": {},
   "outputs": [],
   "source": [
    "params = {\n",
    "    \"maxCard\" : 9,\n",
    "    \"minCard\" : -9,\n",
    "    \"upperBound\" : 10,\n",
    "    \"totalDraws\" : 5\n",
    "}\n",
    "\n",
    "def getCardSequence(params: dict) -> np.ndarray:\n",
    "\n",
    "    return np.asarray([random.randint(params[\"minCard\"], params[\"maxCard\"]) for _ in range(params[\"totalDraws\"])])\n",
    "\n",
    "# Cumulative score, card pair presented -> suspense\n",
    "\n",
    "def getSuspenseSequence(cardSequence: np.array, suspenseModel, params: dict) -> np.ndarray:\n",
    "    \"\"\"\n",
    "    Remember, card sequences need to be 5 draws, where before each draw the player is shown 2 cards.\n",
    "    Without this, we're modelling suspense in a different way than the data we're gathering, as effectively \n",
    "    the expected future belief update would involve forming expectations based on the entire deck, not on the 2 \n",
    "    cards they see before they spin the wheel.\n",
    "\n",
    "    We can implement a couple of suspense models here to try different learning functions\n",
    "    For example, we could have:\n",
    "        - A random model\n",
    "        - Ely suspense (L1 norm)\n",
    "        - Distance to upper bound\n",
    "        - Distance to bound modified by number of cards left in sequence\n",
    "    \"\"\"\n",
    "\n",
    "    # Get the cumulative sum of draws\n",
    "    cs = np.cumsum(cardSequence, axis=0, dtype=np.float32)[0:, 0]\n",
    "    # Get the card pairs at each hand\n",
    "    pairs = np.asarray(np.split(cardSequence, params[\"totalDraws\"]), dtype=np.float32).squeeze()\n",
    "    # Store everything in output dict\n",
    "    results = {\n",
    "        \"cs\": cs,\n",
    "        \"pairs\" : pairs,\n",
    "        \"suspense\" : []\n",
    "    }\n",
    "    \n",
    "    if suspenseModel == None:\n",
    "        raise ValueError(\"No suspense model provided.\")\n",
    "    \n",
    "    if suspenseModel == \"random\":\n",
    "        # Randomly generate 5 values\n",
    "        results[\"suspense\"] = np.array([random.randint(1, 5) for _ in range(params[\"totalDraws\"])], dtype=np.float32)\n",
    "    \n",
    "    elif suspenseModel == \"ely\":\n",
    "        # Ely suspense is based on an internal probability model - do we want to give this to the network or let it try and learn this?\n",
    "        # Surely that would be part of the point?\n",
    "        pass\n",
    "    elif suspenseModel == \"toUpperBound\":\n",
    "        # Whichever of the 2 cards is closest to the upper bound, use that difference for suspense\n",
    "        results[\"suspense\"] = 5*np.exp(-np.min((abs(pairs - params[\"upperBound\"])), axis=1)/params[\"upperBound\"])\n",
    "    else:\n",
    "        raise ValueError(f\"Model {suspenseModel} not recognised.\")\n",
    "    \n",
    "    return results\n",
    "\n",
    "def makeDataset():\n",
    "\n",
    "    return"
   ]
  },
  {
   "cell_type": "code",
   "execution_count": 384,
   "metadata": {},
   "outputs": [],
   "source": [
    "allX = []\n",
    "allY = []\n",
    "\n",
    "for i in range(1):\n",
    "    cardSeq1 = getCardSequence(params)\n",
    "    cardSeq2 = getCardSequence(params)\n",
    "    # Format into pairs of cards\n",
    "    cardSeq = np.concatenate((\n",
    "        cardSeq1.reshape(-1, 1), cardSeq2.reshape(-1, 1)\n",
    "    ), axis=1)\n",
    "\n",
    "    results = getSuspenseSequence(cardSeq, \"toUpperBound\", params)\n",
    "\n",
    "    # results\n",
    "    regResults = {}\n",
    "\n",
    "    # Normalise data to between -1 and 1\n",
    "    regResults['cs'] = results['cs'] / np.array([35], dtype=np.float32) # 35 being the largest score, w/ a constraint that we can't repeat cards (i.e. 9+8+7+6+5)\n",
    "    regResults['pairs'] = results['pairs'] / np.array([params['maxCard']], dtype=np.float32) # Divide by 9 to normalise\n",
    "\n",
    "    # Format into inputs\n",
    "    allX.append(np.concatenate((regResults['cs'], regResults['pairs'].flatten())))\n",
    "    allY.append(results['suspense'])\n",
    "\n",
    "allX = np.asarray(allX)\n",
    "allY = np.asarray(allY)\n"
   ]
  },
  {
   "cell_type": "code",
   "execution_count": 385,
   "metadata": {},
   "outputs": [
    {
     "data": {
      "text/plain": [
       "{'cs': array([ -7., -15., -13., -22., -26.], dtype=float32),\n",
       " 'pairs': array([[-7.,  0.],\n",
       "        [-8.,  8.],\n",
       "        [ 2., -4.],\n",
       "        [-9.,  0.],\n",
       "        [-4., -9.]], dtype=float32),\n",
       " 'suspense': array([1.8393971, 4.0936537, 2.2466447, 1.8393971, 1.2329848],\n",
       "       dtype=float32)}"
      ]
     },
     "execution_count": 385,
     "metadata": {},
     "output_type": "execute_result"
    }
   ],
   "source": [
    "results"
   ]
  },
  {
   "cell_type": "code",
   "execution_count": 377,
   "metadata": {},
   "outputs": [
    {
     "data": {
      "text/plain": [
       "-7.0"
      ]
     },
     "execution_count": 377,
     "metadata": {},
     "output_type": "execute_result"
    }
   ],
   "source": [
    "results['pairs'][0][0]"
   ]
  },
  {
   "cell_type": "code",
   "execution_count": 240,
   "metadata": {},
   "outputs": [
    {
     "data": {
      "text/plain": [
       "(array([[ 0.08571429, -0.11428571,  0.        , -0.02857143, -0.2857143 ,\n",
       "          0.33333334, -0.5555556 , -0.7777778 ,  0.11111111,  0.44444445,\n",
       "         -0.5555556 , -0.11111111, -0.6666667 , -1.        ,  0.22222222],\n",
       "        [-0.25714287, -0.2       , -0.2857143 , -0.17142858, -0.11428571,\n",
       "         -1.        , -0.22222222,  0.22222222, -0.44444445, -0.33333334,\n",
       "          0.8888889 ,  0.44444445, -0.7777778 ,  0.22222222,  0.5555556 ],\n",
       "        [-0.2       , -0.14285715, -0.25714287, -0.34285715, -0.42857143,\n",
       "         -0.7777778 ,  0.33333334,  0.22222222,  1.        , -0.44444445,\n",
       "          0.11111111, -0.33333334,  0.5555556 , -0.33333334,  0.33333334],\n",
       "        [ 0.        ,  0.17142858, -0.05714286,  0.11428571,  0.17142858,\n",
       "          0.        , -0.8888889 ,  0.6666667 ,  0.        , -0.8888889 ,\n",
       "         -0.11111111,  0.6666667 , -0.5555556 ,  0.22222222, -0.5555556 ],\n",
       "        [ 0.11428571,  0.02857143, -0.2       ,  0.02857143, -0.14285715,\n",
       "          0.44444445,  0.8888889 , -0.33333334, -0.22222222, -0.8888889 ,\n",
       "          0.11111111,  0.8888889 ,  0.7777778 , -0.6666667 ,  0.        ]],\n",
       "       dtype=float32),\n",
       " array([[2.4829264, 2.0328484, 2.7440581, 1.6643553, 2.2466447],\n",
       "        [1.505971 , 2.2466447, 4.0936537, 2.7440581, 3.0326533],\n",
       "        [2.4829264, 4.524187 , 2.0328484, 3.0326533, 2.4829264],\n",
       "        [1.8393971, 3.3516002, 1.6643553, 3.3516002, 2.2466447],\n",
       "        [4.0936537, 1.505971 , 2.0328484, 4.0936537, 1.8393971]],\n",
       "       dtype=float32))"
      ]
     },
     "execution_count": 240,
     "metadata": {},
     "output_type": "execute_result"
    }
   ],
   "source": [
    "allX, allY"
   ]
  },
  {
   "cell_type": "markdown",
   "metadata": {},
   "source": [
    "With our inputs and suspenses, we'll build out the network"
   ]
  },
  {
   "cell_type": "code",
   "execution_count": 305,
   "metadata": {},
   "outputs": [
    {
     "name": "stdout",
     "output_type": "stream",
     "text": [
      "Cuda available? True\n"
     ]
    }
   ],
   "source": [
    "import torch\n",
    "import matplotlib.pyplot as plt\n",
    "from torch.utils.data import Dataset, DataLoader\n",
    "import torch.nn.functional as F\n",
    "import sklearn.model_selection as skm\n",
    "\n",
    "print(\"Cuda available?\", torch.cuda.is_available())"
   ]
  },
  {
   "cell_type": "code",
   "execution_count": 306,
   "metadata": {},
   "outputs": [],
   "source": [
    "X_train, X_test, y_train, y_test = skm.train_test_split(allX, allY, test_size=0.2)\n",
    "\n",
    "X_train = torch.tensor(X_train, dtype=torch.float32)\n",
    "y_train = torch.tensor(y_train, dtype=torch.float32)\n",
    "\n",
    "X_test = torch.tensor(X_test, dtype=torch.float32)\n",
    "y_test = torch.tensor(y_test, dtype=torch.float32)"
   ]
  },
  {
   "cell_type": "code",
   "execution_count": 307,
   "metadata": {},
   "outputs": [
    {
     "data": {
      "text/plain": [
       "(torch.Size([800, 15]),\n",
       " torch.Size([800, 5]),\n",
       " torch.Size([200, 15]),\n",
       " torch.Size([200, 5]))"
      ]
     },
     "execution_count": 307,
     "metadata": {},
     "output_type": "execute_result"
    }
   ],
   "source": [
    "X_train.shape, y_train.shape, X_test.shape, y_test.shape"
   ]
  },
  {
   "cell_type": "code",
   "execution_count": 308,
   "metadata": {},
   "outputs": [],
   "source": [
    "# Define an MLP\n",
    "class TorchMLP(torch.nn.Module):\n",
    "    def __init__(self, num_features):\n",
    "        super().__init__()\n",
    "\n",
    "        self.layers = torch.nn.Sequential(\n",
    "            # input layer\n",
    "            torch.nn.Linear(num_features, 15),\n",
    "            torch.nn.Tanh(),\n",
    "\n",
    "            # Hidden layers\n",
    "            torch.nn.Linear(15, 15),\n",
    "            torch.nn.Tanh(),\n",
    "\n",
    "            # Output layer\n",
    "            torch.nn.Linear(15, 5)\n",
    "        )\n",
    "\n",
    "    def forward(self, x):\n",
    "        return self.layers(x)\n",
    "    \n",
    "class MyDataset(Dataset):\n",
    "    def __init__(self, X, y):\n",
    "        self.features = X\n",
    "        self.labels = y\n",
    "\n",
    "    def __getitem__(self, index):\n",
    "        return self.features[index], self.labels[index]\n",
    "    \n",
    "    def __len__(self):\n",
    "        return self.labels.shape[0]"
   ]
  },
  {
   "cell_type": "code",
   "execution_count": 309,
   "metadata": {},
   "outputs": [],
   "source": [
    "# Get dataloader objects\n",
    "\n",
    "train_ds = MyDataset(X_train, y_train)\n",
    "test_ds = MyDataset(X_test, y_test)\n",
    "\n",
    "train_loader = DataLoader(dataset=train_ds, batch_size=24, shuffle=False)\n",
    "test_loader = DataLoader(dataset=test_ds, batch_size=24, shuffle=False)"
   ]
  },
  {
   "cell_type": "code",
   "execution_count": 355,
   "metadata": {},
   "outputs": [],
   "source": [
    "def computeTotalLoss(model, dataloader, device=None):\n",
    "    if device is None:\n",
    "        device = torch.device(\"cpu\")\n",
    "    model = model.eval()\n",
    "\n",
    "    loss = 0.0\n",
    "    examples = 0.0\n",
    "\n",
    "    for ix, (features, labels) in enumerate(dataloader):\n",
    "\n",
    "        features, labels = features.to(device), labels.to(device)\n",
    "\n",
    "        with torch.inference_mode():\n",
    "            logits = model(features)\n",
    "            batch_loss = F.mse_loss(logits, labels, reduce=\"sum\")\n",
    "\n",
    "        loss += batch_loss.item()\n",
    "        examples += logits.shape[0]\n",
    "\n",
    "    return loss / examples\n",
    "\n",
    "def computeAccuracy(model, dataLoader, device=None):\n",
    "    # This won't work without some ammendment as it's expecting categorical data or oh-vectors\n",
    "    if device is None:\n",
    "        device = torch.device(\"cpu\")\n",
    "    model = model.eval()\n",
    "\n",
    "    correct = 0.0\n",
    "    total_examples = 0\n",
    "\n",
    "    for ix, (features, labels) in enumerate(dataLoader):\n",
    "        features, labels = features.to(device), labels.to(device)\n",
    "\n",
    "        with torch.inference_mode():\n",
    "            logits = model(features)\n",
    "\n",
    "            acc = F.mse_loss(logits, labels, reduction=\"mean\")/(16)\n",
    "    \n",
    "    # print(f\"Correctly answered {correct} out of {total_examples} = {100*correct/total_examples}%\")\n",
    "\n",
    "    return 1 - acc"
   ]
  },
  {
   "cell_type": "code",
   "execution_count": 356,
   "metadata": {},
   "outputs": [
    {
     "name": "stderr",
     "output_type": "stream",
     "text": [
      "c:\\Users\\agrog\\Documents\\UCL\\Project\\Code\\expecting-suspense\\.venv\\lib\\site-packages\\torch\\nn\\_reduction.py:42: UserWarning: size_average and reduce args will be deprecated, please use reduction='mean' instead.\n",
      "  warnings.warn(warning.format(ret))\n"
     ]
    },
    {
     "name": "stdout",
     "output_type": "stream",
     "text": [
      "Epoch: 001/050  |   Train Batch loss: 0.4748  |   Val Batch loss: 0.5041  |   Val acc: 34.3104%\n",
      "Epoch: 002/050  |   Train Batch loss: 0.2871  |   Val Batch loss: 0.3049  |   Val acc: 61.1992%\n",
      "Epoch: 003/050  |   Train Batch loss: 0.1300  |   Val Batch loss: 0.1398  |   Val acc: 83.1722%\n",
      "Epoch: 004/050  |   Train Batch loss: 0.0857  |   Val Batch loss: 0.0940  |   Val acc: 88.9498%\n",
      "Epoch: 005/050  |   Train Batch loss: 0.0808  |   Val Batch loss: 0.0892  |   Val acc: 89.3475%\n",
      "Epoch: 006/050  |   Train Batch loss: 0.0804  |   Val Batch loss: 0.0888  |   Val acc: 89.2848%\n",
      "Epoch: 007/050  |   Train Batch loss: 0.0803  |   Val Batch loss: 0.0887  |   Val acc: 89.2472%\n",
      "Epoch: 008/050  |   Train Batch loss: 0.0803  |   Val Batch loss: 0.0887  |   Val acc: 89.2322%\n",
      "Epoch: 009/050  |   Train Batch loss: 0.0802  |   Val Batch loss: 0.0886  |   Val acc: 89.2259%\n",
      "Epoch: 010/050  |   Train Batch loss: 0.0802  |   Val Batch loss: 0.0886  |   Val acc: 89.2227%\n",
      "Epoch: 011/050  |   Train Batch loss: 0.0801  |   Val Batch loss: 0.0886  |   Val acc: 89.2206%\n",
      "Epoch: 012/050  |   Train Batch loss: 0.0801  |   Val Batch loss: 0.0885  |   Val acc: 89.2189%\n",
      "Epoch: 013/050  |   Train Batch loss: 0.0801  |   Val Batch loss: 0.0885  |   Val acc: 89.2172%\n",
      "Epoch: 014/050  |   Train Batch loss: 0.0800  |   Val Batch loss: 0.0885  |   Val acc: 89.2156%\n",
      "Epoch: 015/050  |   Train Batch loss: 0.0800  |   Val Batch loss: 0.0885  |   Val acc: 89.2139%\n",
      "Epoch: 016/050  |   Train Batch loss: 0.0800  |   Val Batch loss: 0.0885  |   Val acc: 89.2123%\n",
      "Epoch: 017/050  |   Train Batch loss: 0.0800  |   Val Batch loss: 0.0885  |   Val acc: 89.2107%\n",
      "Epoch: 018/050  |   Train Batch loss: 0.0800  |   Val Batch loss: 0.0884  |   Val acc: 89.2092%\n",
      "Epoch: 019/050  |   Train Batch loss: 0.0799  |   Val Batch loss: 0.0884  |   Val acc: 89.2076%\n",
      "Epoch: 020/050  |   Train Batch loss: 0.0799  |   Val Batch loss: 0.0884  |   Val acc: 89.2062%\n",
      "Epoch: 021/050  |   Train Batch loss: 0.0799  |   Val Batch loss: 0.0884  |   Val acc: 89.2047%\n",
      "Epoch: 022/050  |   Train Batch loss: 0.0799  |   Val Batch loss: 0.0884  |   Val acc: 89.2033%\n",
      "Epoch: 023/050  |   Train Batch loss: 0.0799  |   Val Batch loss: 0.0884  |   Val acc: 89.2020%\n",
      "Epoch: 024/050  |   Train Batch loss: 0.0799  |   Val Batch loss: 0.0884  |   Val acc: 89.2006%\n",
      "Epoch: 025/050  |   Train Batch loss: 0.0798  |   Val Batch loss: 0.0884  |   Val acc: 89.1994%\n",
      "Epoch: 026/050  |   Train Batch loss: 0.0798  |   Val Batch loss: 0.0884  |   Val acc: 89.1982%\n",
      "Epoch: 027/050  |   Train Batch loss: 0.0798  |   Val Batch loss: 0.0884  |   Val acc: 89.1970%\n",
      "Epoch: 028/050  |   Train Batch loss: 0.0798  |   Val Batch loss: 0.0884  |   Val acc: 89.1958%\n",
      "Epoch: 029/050  |   Train Batch loss: 0.0798  |   Val Batch loss: 0.0884  |   Val acc: 89.1947%\n",
      "Epoch: 030/050  |   Train Batch loss: 0.0798  |   Val Batch loss: 0.0884  |   Val acc: 89.1936%\n",
      "Epoch: 031/050  |   Train Batch loss: 0.0798  |   Val Batch loss: 0.0884  |   Val acc: 89.1926%\n",
      "Epoch: 032/050  |   Train Batch loss: 0.0798  |   Val Batch loss: 0.0884  |   Val acc: 89.1916%\n",
      "Epoch: 033/050  |   Train Batch loss: 0.0798  |   Val Batch loss: 0.0884  |   Val acc: 89.1906%\n",
      "Epoch: 034/050  |   Train Batch loss: 0.0798  |   Val Batch loss: 0.0884  |   Val acc: 89.1896%\n",
      "Epoch: 035/050  |   Train Batch loss: 0.0797  |   Val Batch loss: 0.0884  |   Val acc: 89.1887%\n",
      "Epoch: 036/050  |   Train Batch loss: 0.0797  |   Val Batch loss: 0.0884  |   Val acc: 89.1877%\n",
      "Epoch: 037/050  |   Train Batch loss: 0.0797  |   Val Batch loss: 0.0884  |   Val acc: 89.1868%\n",
      "Epoch: 038/050  |   Train Batch loss: 0.0797  |   Val Batch loss: 0.0884  |   Val acc: 89.1859%\n",
      "Epoch: 039/050  |   Train Batch loss: 0.0797  |   Val Batch loss: 0.0884  |   Val acc: 89.1850%\n",
      "Epoch: 040/050  |   Train Batch loss: 0.0797  |   Val Batch loss: 0.0884  |   Val acc: 89.1841%\n",
      "Epoch: 041/050  |   Train Batch loss: 0.0797  |   Val Batch loss: 0.0884  |   Val acc: 89.1833%\n",
      "Epoch: 042/050  |   Train Batch loss: 0.0797  |   Val Batch loss: 0.0884  |   Val acc: 89.1824%\n",
      "Epoch: 043/050  |   Train Batch loss: 0.0797  |   Val Batch loss: 0.0884  |   Val acc: 89.1815%\n",
      "Epoch: 044/050  |   Train Batch loss: 0.0797  |   Val Batch loss: 0.0884  |   Val acc: 89.1806%\n",
      "Epoch: 045/050  |   Train Batch loss: 0.0797  |   Val Batch loss: 0.0885  |   Val acc: 89.1798%\n",
      "Epoch: 046/050  |   Train Batch loss: 0.0796  |   Val Batch loss: 0.0885  |   Val acc: 89.1789%\n",
      "Epoch: 047/050  |   Train Batch loss: 0.0796  |   Val Batch loss: 0.0885  |   Val acc: 89.1780%\n",
      "Epoch: 048/050  |   Train Batch loss: 0.0796  |   Val Batch loss: 0.0885  |   Val acc: 89.1771%\n",
      "Epoch: 049/050  |   Train Batch loss: 0.0796  |   Val Batch loss: 0.0885  |   Val acc: 89.1763%\n",
      "Epoch: 050/050  |   Train Batch loss: 0.0796  |   Val Batch loss: 0.0885  |   Val acc: 89.1754%\n"
     ]
    }
   ],
   "source": [
    "model = TorchMLP(num_features=15)\n",
    "model.to(\"cuda\")\n",
    "optimiser = torch.optim.SGD(model.parameters(), lr=0.01)\n",
    "num_epochs = 50\n",
    "train_losses = []\n",
    "val_losses = []\n",
    "val_accs = []\n",
    "\n",
    "for epoch in range(num_epochs):\n",
    "    model = model.train()\n",
    "    for batch_ix, (features, labels) in enumerate(train_loader):\n",
    "        features = features.to(\"cuda\")\n",
    "        labels = labels.to(\"cuda\")\n",
    "        logits = model(features)\n",
    "        loss = F.mse_loss(logits, labels, reduction=\"mean\")\n",
    "\n",
    "        optimiser.zero_grad()\n",
    "        loss.backward()\n",
    "        optimiser.step()\n",
    "\n",
    "        if batch_ix == 0:\n",
    "            train_loss = computeTotalLoss(model, train_loader, device=\"cuda\")\n",
    "            val_loss = computeTotalLoss(model, test_loader, device=\"cuda\")\n",
    "            train_losses.append(train_loss)\n",
    "            val_losses.append(val_loss)\n",
    "            val_acc = computeAccuracy(model, test_loader, device=\"cuda\")\n",
    "            val_accs.append(val_acc)\n",
    "\n",
    "            print(\n",
    "                f\"Epoch: {epoch+1:03d}/{num_epochs:03d}\"\n",
    "                f\"  |   Train Batch loss: {train_loss:.4f}\"\n",
    "                f\"  |   Val Batch loss: {val_loss:.4f}\"\n",
    "                f\"  |   Val acc: {100*val_acc:.4f}%\"\n",
    "            )"
   ]
  },
  {
   "cell_type": "code",
   "execution_count": 357,
   "metadata": {},
   "outputs": [
    {
     "data": {
      "image/png": "[encoded data removed]",
      "text/plain": [
       "<Figure size 640x480 with 1 Axes>"
      ]
     },
     "metadata": {},
     "output_type": "display_data"
    }
   ],
   "source": [
    "plt.plot(train_losses, label=\"Training\")\n",
    "plt.plot(val_losses, label=\"Validation\")\n",
    "plt.legend()\n",
    "plt.show()"
   ]
  },
  {
   "cell_type": "code",
   "execution_count": 266,
   "metadata": {},
   "outputs": [
    {
     "name": "stdout",
     "output_type": "stream",
     "text": [
      "tensor([-0.0286,  0.0000,  0.2571,  0.5143,  0.4000, -0.1111,  0.7778,  0.1111,\n",
      "        -0.2222,  1.0000,  0.5556,  1.0000,  0.6667, -0.4444,  0.5556]) tensor([3.7041, 2.0328, 4.5242, 4.5242, 3.0327])\n"
     ]
    }
   ],
   "source": [
    "for ix, (features, labels) in enumerate(test_loader):\n",
    "    print(features[0], labels[0])\n",
    "    break"
   ]
  },
  {
   "cell_type": "code",
   "execution_count": 271,
   "metadata": {},
   "outputs": [
    {
     "data": {
      "text/plain": [
       "0.04600000000000005"
      ]
     },
     "execution_count": 271,
     "metadata": {},
     "output_type": "execute_result"
    }
   ],
   "source": [
    "((np.array([1, 2, 3, 4, 5]) - np.array([1.2, 2.1, 3.1, 4.4, 5.1]))**2).mean()"
   ]
  },
  {
   "cell_type": "code",
   "execution_count": 315,
   "metadata": {},
   "outputs": [
    {
     "data": {
      "text/plain": [
       "tensor(0.2300)"
      ]
     },
     "execution_count": 315,
     "metadata": {},
     "output_type": "execute_result"
    }
   ],
   "source": [
    "F.mse_loss(torch.tensor([1, 2, 3, 4, 5]), torch.tensor([1.2, 2.1, 3.1, 4.4, 5.1]), reduction=\"sum\")"
   ]
  },
  {
   "cell_type": "code",
   "execution_count": 372,
   "metadata": {},
   "outputs": [],
   "source": [
    "def demo(model, device=\"cuda\"):\n",
    "    params = {\n",
    "        \"maxCard\" : 9,\n",
    "        \"minCard\" : -9,\n",
    "        \"upperBound\" : 10,\n",
    "        \"totalDraws\" : 5\n",
    "    }\n",
    "\n",
    "    # generate 2 sequences:\n",
    "\n",
    "    cardSeq1 = getCardSequence(params)\n",
    "    cardSeq2 = getCardSequence(params)\n",
    "    # Format into pairs of cards\n",
    "    cardSeq = np.concatenate((\n",
    "        cardSeq1.reshape(-1, 1), cardSeq2.reshape(-1, 1)\n",
    "    ), axis=1)\n",
    "\n",
    "    results = getSuspenseSequence(cardSeq, \"toUpperBound\", params)\n",
    "\n",
    "    # encode for network\n",
    "    regResults = {}\n",
    "\n",
    "    # Normalise data to between -1 and 1\n",
    "    regResults['cs'] = results['cs'] / np.array([35], dtype=np.float32) # 35 being the largest score, w/ a constraint that we can't repeat cards (i.e. 9+8+7+6+5)\n",
    "    regResults['pairs'] = results['pairs'] / np.array([params['maxCard']], dtype=np.float32) # Divide by 9 to normalise\n",
    "\n",
    "    allX = []\n",
    "    allY = []\n",
    "\n",
    "    # Format into inputs\n",
    "    allX.append(np.concatenate((regResults['cs'], regResults['pairs'].flatten())))\n",
    "    allY.append(results['suspense'])\n",
    "\n",
    "    X = torch.tensor(allX, dtype=torch.float32)\n",
    "    Y = torch.tensor(allY, dtype=torch.float32)\n",
    "\n",
    "    inf_ds = MyDataset(X, Y)\n",
    "    inf_loader = DataLoader(dataset=inf_ds, batch_size=1, shuffle=False)\n",
    "\n",
    "    if device is None:\n",
    "        device = torch.device(\"cpu\")\n",
    "    model = model.eval()\n",
    "\n",
    "    for ix, (features, labels) in enumerate(inf_loader):\n",
    "        features, labels = features.to(device), labels.to(device)\n",
    "\n",
    "        with torch.inference_mode():\n",
    "            logits = model(features)\n",
    "\n",
    "            acc = 1 - F.mse_loss(logits, labels, reduction=\"mean\")/(16)\n",
    "\n",
    "    # print(results)\n",
    "    # print(logits.squeeze())\n",
    "\n",
    "    # Produce summary:\n",
    "    print(\"--- Inference Results ---\\n\")\n",
    "\n",
    "    for cards, cs, sus, modSus in zip(results['pairs'], results['cs'], results['suspense'], logits.squeeze()):\n",
    "        print(f\" Drew: {cards[0]}  |  Alt:  {cards[1]}  |  Sum:  {cs}  |  Suspense:  {sus:.3f}  |  Model Suspense:  {modSus:.3f}  |  Accuracy: {100*acc:.3f}%\")\n",
    "\n",
    "\n",
    "\n"
   ]
  },
  {
   "cell_type": "code",
   "execution_count": 373,
   "metadata": {},
   "outputs": [
    {
     "name": "stdout",
     "output_type": "stream",
     "text": [
      "--- Inference Results ---\n",
      "\n",
      " Drew: -9.0  |  Alt:  -7.0  |  Sum:  -9.0  |  Suspense:  0.913  |  Model Suspense:  2.906  |  Accuracy: 92.522%\n",
      " Drew: -8.0  |  Alt:  6.0  |  Sum:  -17.0  |  Suspense:  3.352  |  Model Suspense:  2.934  |  Accuracy: 92.522%\n",
      " Drew: 8.0  |  Alt:  4.0  |  Sum:  -9.0  |  Suspense:  4.094  |  Model Suspense:  2.835  |  Accuracy: 92.522%\n",
      " Drew: 6.0  |  Alt:  -3.0  |  Sum:  -3.0  |  Suspense:  3.352  |  Model Suspense:  2.872  |  Accuracy: 92.522%\n",
      " Drew: 2.0  |  Alt:  4.0  |  Sum:  -1.0  |  Suspense:  2.744  |  Model Suspense:  2.888  |  Accuracy: 92.522%\n"
     ]
    }
   ],
   "source": [
    "demo(model)"
   ]
  },
  {
   "cell_type": "code",
   "execution_count": 350,
   "metadata": {},
   "outputs": [
    {
     "data": {
      "text/plain": [
       "tensor(80.)"
      ]
     },
     "execution_count": 350,
     "metadata": {},
     "output_type": "execute_result"
    }
   ],
   "source": [
    "F.mse_loss(torch.tensor([[5, 5, 5, 5, 5]], dtype=torch.float32), torch.tensor([[1, 1, 1, 1, 1]], dtype=torch.float32), reduction=\"sum\")"
   ]
  }
 ],
 "metadata": {
  "kernelspec": {
   "display_name": ".venv",
   "language": "python",
   "name": "python3"
  },
  "language_info": {
   "codemirror_mode": {
    "name": "ipython",
    "version": 3
   },
   "file_extension": ".py",
   "mimetype": "text/x-python",
   "name": "python",
   "nbconvert_exporter": "python",
   "pygments_lexer": "ipython3",
   "version": "3.10.1"
  }
 },
 "nbformat": 4,
 "nbformat_minor": 2
}
